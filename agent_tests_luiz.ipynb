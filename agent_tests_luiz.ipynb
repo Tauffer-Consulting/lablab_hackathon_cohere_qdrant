{
 "cells": [
  {
   "cell_type": "code",
   "execution_count": null,
   "metadata": {},
   "outputs": [],
   "source": [
    "%load_ext autoreload\n",
    "%autoreload 2"
   ]
  },
  {
   "cell_type": "code",
   "execution_count": null,
   "metadata": {},
   "outputs": [],
   "source": [
    "import openai\n",
    "import cohere\n",
    "import os\n",
    "from langchain.agents import initialize_agent, Tool\n",
    "from langchain.llms import OpenAI\n",
    "from qdrant_client import QdrantClient\n",
    "from qdrant_client.http.models import models\n",
    "\n",
    "collection_name = \"hackathon_collection\"\n",
    "\n",
    "\n",
    "def search_by_filter(key, value, question):\n",
    "    # perform author payload filter + information vector search\n",
    "    cohere_client = cohere.Client(os.environ.get('COHERE_API_KEY'))\n",
    "    model = 'multilingual-22-12'\n",
    "    response = cohere_client.embed(\n",
    "        texts=[question],\n",
    "        model=model,\n",
    "    )\n",
    "    embedding = [float(e) for e in response.embeddings[0]]\n",
    "    db_client = QdrantClient(\n",
    "        api_key=os.environ.get('QDRANT_API_KEY'),\n",
    "        host=os.environ.get('QDRANT_HOST')\n",
    "    )\n",
    "    response = db_client.search(\n",
    "        collection_name=collection_name,\n",
    "            query_filter=models.Filter(\n",
    "                must=[\n",
    "                    models.FieldCondition(\n",
    "                        key=key,\n",
    "                        match=models.MatchValue(\n",
    "                            value=value\n",
    "                        ) \n",
    "                    )\n",
    "                ]\n",
    "            ),\n",
    "        query_vector=embedding,\n",
    "        limit=5\n",
    "    )\n",
    "    \n",
    "    return response\n",
    "\n",
    "\n",
    "def search_author(input):\n",
    "    print()\n",
    "    print(\"Input to search_author:\")\n",
    "    print(input)\n",
    "    print()\n",
    "    author_name = input.split('AUTHOR:')[1].split('INFORMATION:')[0].strip().lower()\n",
    "    question = input.split('AUTHOR:')[1].split('INFORMATION:')[1].strip().lower()\n",
    "    qdrant_answer = search_by_filter(key='author', value=author_name, question=question)\n",
    "    combined_results = \"\"\n",
    "    for r in qdrant_answer:\n",
    "        combined_results += f\"\"\"excerpt: author: {r.payload.get('author')}, title: {r.payload.get('title')}, text: {r.payload.get('text')}\\n\"\"\"\n",
    "    print(\"Combined results:\")\n",
    "    print(combined_results)\n",
    "    return combined_results\n",
    "\n",
    "\n",
    "def search_title(input):\n",
    "    # perform title payload filter + information vector search\n",
    "    title_info, question_info = input.split('TITLE:', 1)[1].split('INFORMATIONS:', 1)\n",
    "    title = title_info.strip().lower()\n",
    "    question = question_info.strip().lower()\n",
    "    \n",
    "    qdrant_answer = search_by_filter(key='title', value=title, question=question)\n",
    "    combined_results = \"\"\n",
    "    for r in qdrant_answer:\n",
    "        combined_results += f\"\"\"excerpt: author: {r.payload.get('author')}, title: {r.payload.get('title')}, text: {r.payload.get('text')}\\n\"\"\"\n",
    "    return combined_results\n",
    "\n",
    "\n",
    "def search(question):\n",
    "    print()\n",
    "    print(\"Input to search:\")\n",
    "    print(question)\n",
    "    print()\n",
    "    cohere_client = cohere.Client(os.environ.get('COHERE_API_KEY'))\n",
    "    model = 'multilingual-22-12'\n",
    "    response = cohere_client.embed(\n",
    "        texts=[question],\n",
    "        model=model,\n",
    "    )\n",
    "\n",
    "    embedding = [float(e) for e in response.embeddings[0]]\n",
    "\n",
    "    db_client = QdrantClient(\n",
    "        api_key=os.environ.get('QDRANT_API_KEY'),\n",
    "        host=os.environ.get('QDRANT_HOST')\n",
    "    )\n",
    "    qdrant_answer = db_client.search(\n",
    "        collection_name=\"hackaton_collection\",\n",
    "        query_vector=embedding,\n",
    "        limit=5,\n",
    "    )\n",
    "\n",
    "    prompt = f\"\"\"\n",
    "        Given the texts below, answer the following question:\n",
    "        Question: {question}\n",
    "\n",
    "        Texts:\n",
    "        \"\"\"\n",
    "    for response in qdrant_answer:\n",
    "        prompt += '{}\\n'.format(response.payload.get('text'))\n",
    "    \n",
    "    messages = [{\"role\": \"user\", \"content\": prompt}]\n",
    "    \n",
    "    openai_model = 'gpt-3.5-turbo'\n",
    "    response = openai.ChatCompletion.create(\n",
    "        model=openai_model,\n",
    "        messages=messages,\n",
    "        temperature=0.1,\n",
    "        max_tokens=1000,\n",
    "        # frequency_penalty=0.0,\n",
    "        # presence_penalty=0.0,\n",
    "        # stop=[\"\\n\"]\n",
    "    )\n",
    "    return response.choices[0].message.content"
   ]
  },
  {
   "cell_type": "code",
   "execution_count": null,
   "metadata": {},
   "outputs": [],
   "source": [
    "tools = [\n",
    "    Tool(\n",
    "        name=\"search_internal_knowledge_base\",\n",
    "        func=lambda question: search(question),\n",
    "        description=\"\"\"Useful for searcing the internal knowledge base about general.\n",
    "Only use this tool if no other specific search tool is suitable for the task.\"\"\"\n",
    "    ),\n",
    "    # Input template: 'INFORMATION: the information you are searching for'\"\"\"\n",
    "    Tool(\n",
    "        name=\"search_internal_knowledge_base_for_specific_author\",\n",
    "        func=lambda input: search_author(input),\n",
    "        description=\"\"\"Only use this tool when the name of the specific author is known and mentioned in the question. \n",
    "Use this tool for searching information about this specific author.\n",
    "If the name of the author is not explicitly mentioned in the original question DO NOT USE THIS TOOL.\n",
    "The input to this tool should contain the name of the author and the information you are trying to find. \n",
    "Input template: 'AUTHOR: name of the author INFORMATION: the information you are searching for'\"\"\"\n",
    "    ),\n",
    "    # Tool(\n",
    "    #     name=\"Title Search\",\n",
    "    #     func=lambda input: search_title(input),\n",
    "    #     description=\"use this when the you already know the title of the book. Create an input with the name of the author and more information about the question. Input must be like: 'TITLE: title INFORMATIONS: other informations you have'\"\n",
    "    #     # description=\"use when searching for information filtering by a specific title.\",\n",
    "    #     # description=\"use when you want to discover which is the title, asking a quesiton with informations you have\",\n",
    "    # )\n",
    "]\n",
    "\n",
    "agent = initialize_agent(\n",
    "    tools=tools, \n",
    "    llm=OpenAI(\n",
    "        temperature=0.3, \n",
    "        model_name=\"gpt-3.5-turbo\"  \n",
    "        # model_name=\"text-davinci-003\"\n",
    "    ), \n",
    "    agent=\"zero-shot-react-description\", \n",
    "    verbose=True,\n",
    "    max_iterations=2\n",
    ")"
   ]
  },
  {
   "cell_type": "code",
   "execution_count": 57,
   "metadata": {},
   "outputs": [
    {
     "name": "stdout",
     "output_type": "stream",
     "text": [
      "Answer the following questions as best you can. You have access to the following tools:\n",
      "\n",
      "Search: Use this more often than other tools, when you need \n",
      "        to answer questions and do not have the author's name or the document's title\n",
      "Search_when_knowing_specific_author_name: Use this only when you know one specific author's name and you are searching for information about this author.\n",
      "        Do not use this if you do not know the author's name.\n",
      "        Create an input with the name of the author and the information you are searching for them.\n",
      "        Input template: 'AUTHOR: name of the author INFORMATION: other information you are searching'\n",
      "Search_when_knowing_specific_document_title: Use this only when you are searching for information about one specific document title \n",
      "        and you know this document's title.\n",
      "        Do not use this if you do not know the document's title.\n",
      "        Create an input with the title of the document and the information you are searching for them.\n",
      "        Input template: 'TITLE: title of the document INFORMATION: other information you are searching'\n",
      "\n",
      "Use the following format:\n",
      "\n",
      "Question: the input question you must answer\n",
      "Thought: you should always think about what to do\n",
      "Action: the action to take, should be one of [Search, Search_when_knowing_specific_author_name, Search_when_knowing_specific_document_title]\n",
      "Action Input: the input to the action\n",
      "Observation: the result of the action\n",
      "... (this Thought/Action/Action Input/Observation can repeat N times)\n",
      "Thought: I now know the final answer\n",
      "Final Answer: the final answer to the original input question\n",
      "\n",
      "Begin!\n",
      "\n",
      "Question: compare o que disseram Machado de Assis e Henry David Thoreau sobre a sociedade?\n",
      "Thought: I need to find out what each author said about society\n",
      "Action: Search\n",
      "Action Input: Machado de Assis and Henry David Thoreau society\n",
      "Observation: There is no direct mention of Machado de Assis and Henry David Thoreau society in any of the texts provided.\n",
      "Thought: I need to look at what each author said about society in general\n",
      "Action: Search\n",
      "Action Input: Machado de Assis and Henry David Thoreau society general\n",
      "Observation: The texts do not provide information about the society in which Machado de Assis and Henry David Thoreau lived.\n",
      "Thought: I need to look at what each author said about society in general\n",
      "Action: Search\n",
      "Action Input: Machado de Assis and Henry David Thoreau views on society\n",
      "Observation: Machado de Assis and Henry David Thoreau had different views on society. Machado believed that each person needs to focus on themselves and their own happiness, and that society should be balanced by everyone focusing on their own needs. Thoreau, on the other hand, believed in a more structured society based on his Humanitismo philosophy, which would eliminate war, insurrection, and other societal issues. Additionally, Machado believed that women give themselves to men out of love, while men do so out of vanity, while Thoreau believed in the importance of a universal principle that is present in every person and that war and famine are necessary for the growth of society.\n",
      "Thought:I now know the final answer \n",
      "Final Answer: Machado de Assis and Henry David Thoreau had different views on society, with Machado believing in individualism and Thoreau believing in a more structured society based on his Humanitismo philosophy. Additionally, Machado believed that women give themselves to men out of love, while men do so out of vanity, while Thoreau believed in the importance of a universal principle that is present in every person and that war and famine are necessary for the growth of society.\n"
     ]
    }
   ],
   "source": [
    "print(\"Answer the following questions as best you can. You have access to the following tools:\\n\\nSearch: Use this more often than other tools, when you need \\n        to answer questions and do not have the author's name or the document's title\\nSearch_when_knowing_specific_author_name: Use this only when you know one specific author's name and you are searching for information about this author.\\n        Do not use this if you do not know the author's name.\\n        Create an input with the name of the author and the information you are searching for them.\\n        Input template: 'AUTHOR: name of the author INFORMATION: other information you are searching'\\nSearch_when_knowing_specific_document_title: Use this only when you are searching for information about one specific document title \\n        and you know this document's title.\\n        Do not use this if you do not know the document's title.\\n        Create an input with the title of the document and the information you are searching for them.\\n        Input template: 'TITLE: title of the document INFORMATION: other information you are searching'\\n\\nUse the following format:\\n\\nQuestion: the input question you must answer\\nThought: you should always think about what to do\\nAction: the action to take, should be one of [Search, Search_when_knowing_specific_author_name, Search_when_knowing_specific_document_title]\\nAction Input: the input to the action\\nObservation: the result of the action\\n... (this Thought/Action/Action Input/Observation can repeat N times)\\nThought: I now know the final answer\\nFinal Answer: the final answer to the original input question\\n\\nBegin!\\n\\nQuestion: compare o que disseram Machado de Assis e Henry David Thoreau sobre a sociedade?\\nThought: I need to find out what each author said about society\\nAction: Search\\nAction Input: Machado de Assis and Henry David Thoreau society\\nObservation: There is no direct mention of Machado de Assis and Henry David Thoreau society in any of the texts provided.\\nThought: I need to look at what each author said about society in general\\nAction: Search\\nAction Input: Machado de Assis and Henry David Thoreau society general\\nObservation: The texts do not provide information about the society in which Machado de Assis and Henry David Thoreau lived.\\nThought: I need to look at what each author said about society in general\\nAction: Search\\nAction Input: Machado de Assis and Henry David Thoreau views on society\\nObservation: Machado de Assis and Henry David Thoreau had different views on society. Machado believed that each person needs to focus on themselves and their own happiness, and that society should be balanced by everyone focusing on their own needs. Thoreau, on the other hand, believed in a more structured society based on his Humanitismo philosophy, which would eliminate war, insurrection, and other societal issues. Additionally, Machado believed that women give themselves to men out of love, while men do so out of vanity, while Thoreau believed in the importance of a universal principle that is present in every person and that war and famine are necessary for the growth of society.\\nThought:I now know the final answer \\nFinal Answer: Machado de Assis and Henry David Thoreau had different views on society, with Machado believing in individualism and Thoreau believing in a more structured society based on his Humanitismo philosophy. Additionally, Machado believed that women give themselves to men out of love, while men do so out of vanity, while Thoreau believed in the importance of a universal principle that is present in every person and that war and famine are necessary for the growth of society.\")"
   ]
  },
  {
   "cell_type": "code",
   "execution_count": null,
   "metadata": {},
   "outputs": [],
   "source": []
  },
  {
   "cell_type": "code",
   "execution_count": null,
   "metadata": {},
   "outputs": [],
   "source": []
  },
  {
   "cell_type": "code",
   "execution_count": null,
   "metadata": {},
   "outputs": [],
   "source": []
  },
  {
   "cell_type": "code",
   "execution_count": null,
   "metadata": {},
   "outputs": [],
   "source": [
    "# question = 'quem é o autor que escreve sobre suas memórias póstumas?'\n",
    "# question = 'O que disse machado de assis sobre ter filhos? Compare com o que Harari disse sobre o mesmo assunto.'\n",
    "# question = 'O que disse machado de assis sobre a sociedade moderna? Compare com o que henry david Thoreau disse sobre o mesmo assunto.'\n",
    "# question = 'Compare o que disseram sobre a sociedade moderna os seguintes autores: machado de assis, henry david Thoreau e yuval noah harari.'\n",
    "# question = 'qual é o titulo do livro em o autor machado de assis comenta sobre filhos?'\n",
    "question = 'Use knowledge base to discover how are the trees by the lake?'\n",
    "# question = 'How are the trees by the lake?'\n",
    "\n",
    "agent.run(input=question)"
   ]
  },
  {
   "cell_type": "code",
   "execution_count": null,
   "metadata": {},
   "outputs": [],
   "source": [
    "print(agent.__dict__[\"agent\"].llm_chain.prompt.template)"
   ]
  },
  {
   "cell_type": "code",
   "execution_count": null,
   "metadata": {},
   "outputs": [],
   "source": []
  },
  {
   "cell_type": "code",
   "execution_count": null,
   "metadata": {},
   "outputs": [],
   "source": []
  },
  {
   "cell_type": "code",
   "execution_count": null,
   "metadata": {},
   "outputs": [],
   "source": []
  },
  {
   "cell_type": "code",
   "execution_count": null,
   "metadata": {},
   "outputs": [],
   "source": []
  },
  {
   "cell_type": "code",
   "execution_count": null,
   "metadata": {},
   "outputs": [],
   "source": []
  },
  {
   "cell_type": "code",
   "execution_count": null,
   "metadata": {},
   "outputs": [],
   "source": []
  },
  {
   "cell_type": "code",
   "execution_count": null,
   "metadata": {},
   "outputs": [],
   "source": []
  },
  {
   "cell_type": "code",
   "execution_count": 49,
   "metadata": {},
   "outputs": [
    {
     "name": "stdout",
     "output_type": "stream",
     "text": [
      "[youtube] Extracting URL: https://www.youtube.com/watch?v=3wfNl2L0Gf8&ab_channel=withDefiance\n",
      "[youtube] 3wfNl2L0Gf8: Downloading webpage\n",
      "[youtube] 3wfNl2L0Gf8: Downloading android player API JSON\n",
      "[info] 3wfNl2L0Gf8: Downloading 1 format(s): 140\n",
      "[dashsegments] Total fragments: 7\n",
      "[download] Destination: download_audio2\n",
      "[download] 100% of   64.86MiB in 00:00:07 at 9.03MiB/s                  \n",
      "[FixupM4a] Correcting container of \"download_audio2\"\n",
      "[ExtractAudio] Destination: download_audio2.mp3\n",
      "Deleting original file download_audio2 (pass -k to keep)\n"
     ]
    }
   ],
   "source": [
    "import yt_dlp\n",
    "import openai\n",
    "from pydub import AudioSegment\n",
    "\n",
    "URLS = ['https://www.youtube.com/watch?v=3wfNl2L0Gf8&ab_channel=withDefiance']\n",
    "\n",
    "downloaded_file_name = 'download_audio2'\n",
    "\n",
    "ydl_opts = {\n",
    "    'format': 'm4a/bestaudio/best',\n",
    "    \"outtmpl\": downloaded_file_name,\n",
    "    'overwrites': True,\n",
    "    'postprocessors': [{ \n",
    "        'key': 'FFmpegExtractAudio',\n",
    "        'preferredcodec': 'mp3',\n",
    "    }]\n",
    "}\n",
    "\n",
    "with yt_dlp.YoutubeDL(ydl_opts) as ydl:\n",
    "    info = ydl.extract_info(URLS[0])"
   ]
  },
  {
   "cell_type": "code",
   "execution_count": 32,
   "metadata": {},
   "outputs": [],
   "source": [
    "\n",
    "\n",
    "full_audio = AudioSegment.from_mp3(\"Debate Noam Chomsky & Michel Foucault - On human nature [Subtitled] [3wfNl2L0Gf8].mp3\")\n",
    "total_time = len(full_audio)\n",
    "\n",
    "# PyDub handles time in milliseconds\n",
    "ten_minutes = 10 * 60 * 1000\n",
    "full_transcript = \"\"\n",
    "i = 0\n",
    "while True:\n",
    "    endpoint = min((i+1)*ten_minutes, total_time-1)\n",
    "    minutes = full_audio[i*ten_minutes:endpoint]\n",
    "    minutes.export(f\"audio_piece_{i}.mp3\", format=\"mp3\")\n",
    "    audio_file= open(f\"audio_piece_{i}.mp3\", \"rb\")\n",
    "    transcript = openai.Audio.transcribe(\"whisper-1\", audio_file).to_dict()[\"text\"]\n",
    "    full_transcript += \" \" + transcript\n",
    "    i += 1\n",
    "    if endpoint == total_time-1:\n",
    "        break"
   ]
  },
  {
   "cell_type": "code",
   "execution_count": 43,
   "metadata": {},
   "outputs": [
    {
     "data": {
      "text/plain": [
       "'Debate Noam Chomsky & Michel Foucault - On human nature [Subtitled]'"
      ]
     },
     "execution_count": 43,
     "metadata": {},
     "output_type": "execute_result"
    }
   ],
   "source": [
    "info.get(\"title\", None)"
   ]
  },
  {
   "cell_type": "code",
   "execution_count": 50,
   "metadata": {},
   "outputs": [
    {
     "data": {
      "text/plain": [
       "dict_keys(['id', 'title', 'formats', 'thumbnails', 'thumbnail', 'description', 'uploader', 'uploader_id', 'uploader_url', 'channel_id', 'channel_url', 'duration', 'view_count', 'average_rating', 'age_limit', 'webpage_url', 'categories', 'tags', 'playable_in_embed', 'live_status', 'release_timestamp', '_format_sort_fields', 'automatic_captions', 'subtitles', 'comment_count', 'chapters', 'like_count', 'channel', 'channel_follower_count', 'upload_date', 'availability', 'original_url', 'webpage_url_basename', 'webpage_url_domain', 'extractor', 'extractor_key', 'playlist', 'playlist_index', 'display_id', 'fulltitle', 'duration_string', 'is_live', 'was_live', 'requested_subtitles', '_has_drm', 'requested_downloads', 'asr', 'filesize', 'format_id', 'format_note', 'source_preference', 'fps', 'audio_channels', 'height', 'quality', 'has_drm', 'tbr', 'url', 'width', 'language', 'language_preference', 'preference', 'ext', 'vcodec', 'acodec', 'dynamic_range', 'abr', 'protocol', 'fragments', 'container', 'resolution', 'aspect_ratio', 'http_headers', 'audio_ext', 'video_ext', 'format'])"
      ]
     },
     "execution_count": 50,
     "metadata": {},
     "output_type": "execute_result"
    }
   ],
   "source": [
    "info.keys()"
   ]
  },
  {
   "cell_type": "code",
   "execution_count": 51,
   "metadata": {},
   "outputs": [],
   "source": [
    "info[\"release_timestamp\"]"
   ]
  },
  {
   "cell_type": "code",
   "execution_count": 52,
   "metadata": {},
   "outputs": [
    {
     "data": {
      "text/plain": [
       "'withDefiance'"
      ]
     },
     "execution_count": 52,
     "metadata": {},
     "output_type": "execute_result"
    }
   ],
   "source": [
    "info.get(\"channel\")"
   ]
  },
  {
   "cell_type": "code",
   "execution_count": null,
   "metadata": {},
   "outputs": [],
   "source": []
  }
 ],
 "metadata": {
  "kernelspec": {
   "display_name": "Python 3 (ipykernel)",
   "language": "python",
   "name": "python3"
  },
  "language_info": {
   "codemirror_mode": {
    "name": "ipython",
    "version": 3
   },
   "file_extension": ".py",
   "mimetype": "text/x-python",
   "name": "python",
   "nbconvert_exporter": "python",
   "pygments_lexer": "ipython3",
   "version": "3.9.15"
  }
 },
 "nbformat": 4,
 "nbformat_minor": 4
}
