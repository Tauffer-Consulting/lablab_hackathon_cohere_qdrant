{
 "cells": [
  {
   "cell_type": "code",
   "execution_count": 6,
   "metadata": {},
   "outputs": [],
   "source": [
    "from qdrant_client import QdrantClient\n",
    "from qdrant_client.http import models"
   ]
  },
  {
   "cell_type": "code",
   "execution_count": 8,
   "metadata": {},
   "outputs": [],
   "source": [
    "QDRANT_API_KEY=\"BNRzY7wMv_paeBvuVOpBhq0RHPC4PhTHv47aihi9bm53lTGrvV2FiA\"\n",
    "QDRANT_HOST=\"b5e29078-3171-4834-8260-17ff78b6ba33.us-east-1-0.aws.cloud.qdrant.io\""
   ]
  },
  {
   "cell_type": "code",
   "execution_count": 7,
   "metadata": {},
   "outputs": [
    {
     "data": {
      "text/plain": [
       "CollectionInfo(status=<CollectionStatus.GREEN: 'green'>, optimizer_status=<OptimizersStatusOneOf.OK: 'ok'>, vectors_count=0, indexed_vectors_count=0, points_count=0, segments_count=8, config=CollectionConfig(params=CollectionParams(vectors=VectorParams(size=768, distance=<Distance.DOT: 'Dot'>), shard_number=1, replication_factor=1, write_consistency_factor=1, on_disk_payload=True), hnsw_config=HnswConfig(m=16, ef_construct=100, full_scan_threshold=10000, max_indexing_threads=0, on_disk=False, payload_m=None), optimizer_config=OptimizersConfig(deleted_threshold=0.2, vacuum_min_vector_number=1000, default_segment_number=0, max_segment_size=None, memmap_threshold=None, indexing_threshold=20000, flush_interval_sec=5, max_optimization_threads=1), wal_config=WalConfig(wal_capacity_mb=32, wal_segments_ahead=0)), payload_schema={})"
      ]
     },
     "execution_count": 7,
     "metadata": {},
     "output_type": "execute_result"
    }
   ],
   "source": [
    "#localhost\n",
    "client = QdrantClient(\"localhost\", port=6333)\n",
    "\n",
    "client.recreate_collection(\n",
    "    collection_name='test_collection',\n",
    "    vectors_config=models.VectorParams(size=768, distance=models.Distance.DOT)\n",
    ")\n",
    "\n",
    "client.get_collection(collection_name=\"test_collection\")"
   ]
  },
  {
   "cell_type": "code",
   "execution_count": 9,
   "metadata": {},
   "outputs": [],
   "source": [
    "#cloud\n",
    "QDRANT_API_KEY=\"BNRzY7wMv_paeBvuVOpBhq0RHPC4PhTHv47aihi9bm53lTGrvV2FiA\"\n",
    "QDRANT_HOST=\"b5e29078-3171-4834-8260-17ff78b6ba33.us-east-1-0.aws.cloud.qdrant.io\"\n",
    "\n",
    "client = QdrantClient(\n",
    "    api_key=QDRANT_API_KEY,\n",
    "    host=QDRANT_HOST\n",
    ")"
   ]
  },
  {
   "cell_type": "code",
   "execution_count": 11,
   "metadata": {},
   "outputs": [
    {
     "name": "stdout",
     "output_type": "stream",
     "text": [
      "status=<CollectionStatus.GREEN: 'green'> optimizer_status=<OptimizersStatusOneOf.OK: 'ok'> vectors_count=1075 indexed_vectors_count=0 points_count=1075 segments_count=2 config=CollectionConfig(params=CollectionParams(vectors=VectorParams(size=768, distance=<Distance.DOT: 'Dot'>), shard_number=1, replication_factor=1, write_consistency_factor=1, on_disk_payload=True), hnsw_config=HnswConfig(m=16, ef_construct=100, full_scan_threshold=10000, max_indexing_threads=0, on_disk=False, payload_m=None), optimizer_config=OptimizersConfig(deleted_threshold=0.2, vacuum_min_vector_number=1000, default_segment_number=0, max_segment_size=None, memmap_threshold=None, indexing_threshold=20000, flush_interval_sec=5, max_optimization_threads=1), wal_config=WalConfig(wal_capacity_mb=32, wal_segments_ahead=0)) payload_schema={}\n"
     ]
    }
   ],
   "source": [
    "collection_name = \"hackathon_collection\"\n",
    "print(client.get_collection(collection_name=collection_name))"
   ]
  },
  {
   "cell_type": "code",
   "execution_count": 5,
   "metadata": {},
   "outputs": [],
   "source": [
    "import io\n",
    "from PyPDF2 import PdfReader, PdfWriter\n",
    "\n",
    "with open('./data/memoriasBras.pdf', 'rb') as f:\n",
    "    pdf_bytes = f.read()\n",
    "reader = PdfReader(io.BytesIO(pdf_bytes))\n",
    "page_texts = []\n",
    "for page in reader.pages:\n",
    "    pg_text = page.extract_text()\n",
    "    if pg_text:\n",
    "        page_texts.append(pg_text)\n",
    "text_file = ''.join(page_texts)"
   ]
  },
  {
   "cell_type": "code",
   "execution_count": null,
   "metadata": {},
   "outputs": [],
   "source": []
  }
 ],
 "metadata": {
  "kernelspec": {
   "display_name": "hackathon-env",
   "language": "python",
   "name": "python3"
  },
  "language_info": {
   "codemirror_mode": {
    "name": "ipython",
    "version": 3
   },
   "file_extension": ".py",
   "mimetype": "text/x-python",
   "name": "python",
   "nbconvert_exporter": "python",
   "pygments_lexer": "ipython3",
   "version": "3.10.9"
  },
  "orig_nbformat": 4
 },
 "nbformat": 4,
 "nbformat_minor": 2
}
