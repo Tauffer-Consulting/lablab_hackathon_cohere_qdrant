{
 "cells": [
  {
   "cell_type": "code",
   "execution_count": null,
   "id": "441f6633-e85b-4a37-a128-fb97f1251639",
   "metadata": {},
   "outputs": [],
   "source": []
  },
  {
   "cell_type": "code",
   "execution_count": 1,
   "id": "3c354482-a5b2-422c-9464-955f2c74371d",
   "metadata": {},
   "outputs": [],
   "source": [
    "from pypdf import PdfReader\n",
    "import cohere  \n",
    "import io\n",
    "import os"
   ]
  },
  {
   "cell_type": "code",
   "execution_count": 2,
   "id": "54879219-9447-462c-a454-9bfeb2391b1b",
   "metadata": {},
   "outputs": [],
   "source": [
    "co = cohere.Client(os.environ.get(\"COHERE_API_KEY\", None))"
   ]
  },
  {
   "cell_type": "code",
   "execution_count": 6,
   "id": "002f5d91-5389-4143-b04c-6db198cf8811",
   "metadata": {},
   "outputs": [],
   "source": [
    "# Read from PDF\n",
    "\n",
    "reader = PdfReader(\"data/walden.pdf\")\n",
    "# reader = PdfReader(\"data/memoriasBras.pdf\")\n",
    "\n",
    "page = reader.pages[0]\n",
    "# print(page.extract_text())\n",
    "\n",
    "pages_list = [p for p in reader.pages]\n",
    "first_pages_content = \" \".join([p.extract_text().replace(\"\\n\", \" \").replace(\"..\", \"\") for p in pages_list[0:4]])[0:3000]"
   ]
  },
  {
   "cell_type": "code",
   "execution_count": 14,
   "id": "ffcd42c7-6e60-4d30-a991-64696bba20f8",
   "metadata": {},
   "outputs": [],
   "source": [
    "full_text = \" \".join([p.extract_text().replace(\"\\n\", \" \").replace(\"..\", \"\") for p in pages_list])"
   ]
  },
  {
   "cell_type": "code",
   "execution_count": 22,
   "id": "cc20b916-f6e0-461d-b7d5-b78badf3172c",
   "metadata": {},
   "outputs": [
    {
     "data": {
      "text/plain": [
       "'Every one has heard the story which has gone the rounds of New England, of a strong and beautiful bug which came out of the dry leaf of an old table of apple-tree wood, which had stood in a farmer’s kitchen for sixty years, first in Connecticut, and afterward in Massachusetts,—from an egg deposited in the living tree many years earlier still, as appeared by counting the annual layers beyond it; which was heard gnawing out for several weeks, hatched perchance by the heat of an urn. Who does not feel his faith in a resurrection and immortality strengthened by hearing of this? Who knows what beautiful and winged life, whose egg has been buried for ages under many concentric layers of woodenness in the dead dry life of society, deposited at first in the alburnum of the green and living tree, which has been gradually converted into the semblance of its well-seasoned tomb,—heard perchance gnawing out now for years by the astonished family of man, as they sat round the festive board,—may unexpectedly come forth from amidst society’s 247 most trivial and handselled furniture, to enjoy its perfect summer life at last! I do not say that John or Jonathan will realize all this; but such is the character of that morrow which mere lapse of time can never make to dawn. The light which puts out our eyes is darkness to us. Only that day dawns to which we are awake. There is more day to dawn. The sun is but a morning star. THE END 248'"
      ]
     },
     "execution_count": 22,
     "metadata": {},
     "output_type": "execute_result"
    }
   ],
   "source": [
    "sentences = full_text.split(\". \")\n",
    "sentences_list = list()\n",
    "last_sentence = sentences[0]\n",
    "for i, s in enumerate(sentences[1:]):\n",
    "    combined_sentence = last_sentence + \". \" + s\n",
    "    if len(combined_sentence) > 2000:\n",
    "        sentences_list.append(last_sentence)\n",
    "        last_sentence = s\n",
    "    else:\n",
    "        last_sentence = combined_sentence\n",
    "        if i == len(sentences) - 2:\n",
    "            sentences_list.append(last_sentence)\n",
    "        \n",
    "sentences_list[-1]"
   ]
  },
  {
   "cell_type": "code",
   "execution_count": null,
   "id": "fd09e6ea-5139-4a3f-a968-ba50f371f64b",
   "metadata": {},
   "outputs": [],
   "source": []
  },
  {
   "cell_type": "code",
   "execution_count": null,
   "id": "50729918-3d8f-4f82-9cbc-6fcb9b1d7a69",
   "metadata": {},
   "outputs": [],
   "source": []
  },
  {
   "cell_type": "code",
   "execution_count": 94,
   "id": "24262309-c0fa-47c8-9db3-e18fff09aadd",
   "metadata": {},
   "outputs": [],
   "source": [
    "# Read from TXT\n",
    "import chardet\n",
    "\n",
    "# Open the text file in read-binary mode\n",
    "with open('data/james.txt', 'rb') as file:\n",
    "    \n",
    "    # Detect the encoding of the file\n",
    "    file_encoding = chardet.detect(file.read())['encoding']\n",
    "    \n",
    "    # Reopen the file with the detected encoding in read mode\n",
    "    file.seek(0)\n",
    "    file_contents = file.read().decode(file_encoding)\n",
    "    \n",
    "first_pages_content = file_contents.replace(\"\\n\", \" \").replace(\"\\r\", \" \").replace(\"..\", \"\")[0:2000]"
   ]
  },
  {
   "cell_type": "code",
   "execution_count": null,
   "id": "39595092-2fb9-48d0-999a-ab3debe28cdb",
   "metadata": {},
   "outputs": [],
   "source": []
  },
  {
   "cell_type": "code",
   "execution_count": 139,
   "id": "43e87c3c-fa5b-4908-a21b-9cf400502b75",
   "metadata": {},
   "outputs": [
    {
     "data": {
      "text/plain": [
       "'  \\nGiven the text below, extract these three pieces of information: \\n1) publication title: \\n2) author: \\n3) publication year: (should be just a number)\\n\\nText:\\n   Memórias Póstumas de Brás Cubas           Texto-fonte:   Obra Completa , Machado de Assis,   Rio de Janeiro: Editora Nova Aguilar, 1994.      Publicado originalmente em folhetins, a partir de março de 1880, na Revista Brasileira .                        Ao verme   que   primeiro roeu as frias carnes   do meu cadáver   dedico   como saudosa lembrança   estas   Memórias Póstumas             Prólogo da terceira edição      A primeira edição destas Memórias Póstumas  de Brás Cubas  foi feita  aos pedaços na Revista Brasileira, pelos anos de 1880. Postas mais  tarde em livro, corrigi o texto em vá rios lugares. Agora que tive de o  rever para a terceira edição, emendei ainda alguma coisa e suprimi  duas ou três dúzias de linhas. Assim composta, sai novamente à luz  esta obra que alguma benevolência parece ter encontrado no público.      Capistrano de Abreu, noticiando a publicação do livro, perguntava:  “As Memórias Póstumas de Brás Cubas  são um romance?” Macedo  Soares, em carta que me escreveu por esse tempo, recordava  amigamente as Viagens na minha terra . Ao primeiro respondia já o  defunto Brás Cubas (como o leitor viu e verá no prólogo dele que vai  adiante) que sim e que não, que era romance para uns e não o era para outros. Quanto ao segundo, a ssim se explicou o finado: “Trata- se de uma obra difusa, na qual eu , Brás Cubas, se adotei a forma  livre de um Sterne ou de um Xavier de Maistre, não sei se lhe meti  algumas rabugens de pe ssimismo.” Toda essa gente viajou: Xavier de  Maistre à roda do quarto, Garret na  terra dele, Sterne na terra dos  outros. De Brás Cubas se pode di zer que viajou à roda da vida.      O que faz do meu Brás Cubas um au tor particular é o que ele chama  “rabugens de pessimismo”. Há na al ma deste livro, por mais risonho  que pareça, um sentimento amargo e áspero, que está longe de vir de seus modelos. É taça que pode  ter lavores de igual escola, mas  leva outro vinho. Não digo mais para não entrar na crítica de um  defunto, que se pintou a si e a ou tros, conforme lhe pareceu melhor e  mais certo.      Machado de Assis.           AO LEITOR      Que Stendhal confessasse haver escr ito um de seus livros para cem  leitores, coisa é que admira e consterna. O que não admira, nem  provavelmente consternará é se es te outro livro não tiver os cem  leitores de Stendhal, nem cinqüenta, nem vinte e, quando muito,  dez. Dez? Talvez cinco. Trata-se, na  verdade, de uma obra difusa, na  qual eu, Brás Cubas, se adotei a fo rma livre de um Sterne, ou de um  Xavier de Maistre, não sei se lhe meti algumas rabugens de  pessimismo. Pode ser. Obra de finado. Escrevi-a com a pena da  galhofa e a tinta da melancolia, e não é difícil antever o que poderá  sair desse conúbio. Acresce que a ge nte grave achará no livro umas  aparências de puro romance, ao pa sso que a gente frívola não achará  nele o seu romance usual; ei-lo aí fica privado da estima dos graves e  do amor dos frívolos, que são as duas colunas máximas da opinião.     \\n\\nInformation:\\n'"
      ]
     },
     "execution_count": 139,
     "metadata": {},
     "output_type": "execute_result"
    }
   ],
   "source": [
    "prompt = f\"\"\"  \n",
    "Given the text below, extract these three pieces of information: \n",
    "1) publication title: \n",
    "2) author: \n",
    "3) publication year: (should be just a number)\n",
    "\n",
    "Text:\n",
    "{first_pages_content}\n",
    "\n",
    "Information:\n",
    "\"\"\"\n",
    "\n",
    "prompt"
   ]
  },
  {
   "cell_type": "code",
   "execution_count": 87,
   "id": "0152597c-dd80-487c-9f46-9da1aa097425",
   "metadata": {},
   "outputs": [],
   "source": [
    "response = co.generate(  \n",
    "    model='xlarge',  \n",
    "    prompt = prompt,  \n",
    "    max_tokens=40,  \n",
    "    temperature=0.2,  \n",
    "    stop_sequences=[\"--\"])\n",
    "\n",
    "info = response.generations[0].text"
   ]
  },
  {
   "cell_type": "code",
   "execution_count": 88,
   "id": "3bdb1325-cbec-4904-a657-1cfd8f75e461",
   "metadata": {},
   "outputs": [
    {
     "data": {
      "text/plain": [
       "'\\n1) book title: The Will to Believe\\n\\n2) author: William James\\n\\n3) publication year: 1912\\n\\n4) publication place: New York\\n\\n5) publisher'"
      ]
     },
     "execution_count": 88,
     "metadata": {},
     "output_type": "execute_result"
    }
   ],
   "source": [
    "info"
   ]
  },
  {
   "cell_type": "code",
   "execution_count": 68,
   "id": "3e36795f-43f1-4c67-853b-a535e7cce911",
   "metadata": {},
   "outputs": [
    {
     "data": {
      "text/plain": [
       "\"The Project Gutenberg EBook of The Will to Believe, by William James    This eBook is for the use of anyone anywhere at no cost and with  almost no restrictions whatsoever.  You may copy it, give it away or  re-use it under the terms of the Project Gutenberg License included  with this eBook or online at www.gutenberg.org      Title: The Will to Believe         and Other Essays in Popular Philosophy    Author: William James    Release Date: May 8, 2009 [EBook #26659]    Language: English    Character set encoding: ISO-8859-1    *** START OF THIS PROJECT GUTENBERG EBOOK THE WILL TO BELIEVE ***          Produced by Al Haines. (This file was produced from images  generously made available by The Internet Archive.)                      THE WILL TO BELIEVE      AND OTHER ESSAYS IN    POPULAR PHILOSOPHY        BY WILLIAM JAMES          NEW IMPRESSION        LONGMANS, GREEN, AND CO.    FOURTH AVENUE & 30TH STREET, NEW YORK    LONDON, BOMBAY, AND CALCUTTA    1912          _Copyright, 1896_    BY WILLIAM JAMES        First Edition. February, 1897,      Reprinted, May, 1897, September, 1897,    March, 1898, August, 1899, June, 1902,    January, 1903, May, 1904, June, 1905,    March, 1907, April, 1908,    September, 1909, December, 1910,    November, 1911, November, 1912          To    My Old Friend,    CHARLES SANDERS PEIRCE,      To whose philosophic comradeship in old times    and to whose writings in more recent years    I owe more incitement and help than    I can express or repay.          {vii}    PREFACE.    At most of our American Colleges there are Clubs formed by the students  devoted to particular branches of learning; and these clubs have the  laudable custom of inviting once or twice a year some maturer scholar  to address them, the occasion often being made a public one.  I have  from time to time accepted such invitations, and afterwards had my  discourse printed in one or other of the Reviews.  It has seemed to me  that these addresses might now be worthy of collection in a volume, as  they shed explanatory light upon each other, and taken together express  a tolerably definite philosophic attitude in a very untechnical way.    Were I obliged to give a short name to the attitude in question, I  should call it that of _radical empiricism_, in spite of the fact that  such brief nicknames are nowhere more misleading than in philosophy.  I  say 'empiricism,' because it is contented to regard its most assured  conclusions concerning matters of fact as hypotheses liable to  modification in the course of future experience; and I say 'radical,'  because it treats the doctrine of monism itself as an hypothesis, and,  {viii} unlike so much of the half-way empiricism that is current under  the name of positivism or agnosticism or scientific naturalism, it does  not dogmatically affirm monism as something with which all experience  has got to square.  The difference between monism and pluralism is  perhaps the most pregnant of all the differences in ph\""
      ]
     },
     "execution_count": 68,
     "metadata": {},
     "output_type": "execute_result"
    }
   ],
   "source": [
    "first_pages_content"
   ]
  },
  {
   "cell_type": "code",
   "execution_count": 48,
   "id": "bb9c9dbe-4b27-42d2-8f8a-4912c0b0cec2",
   "metadata": {},
   "outputs": [
    {
     "data": {
      "text/plain": [
       "<cohere.detectlang.DetectLanguageResponse at 0x7fa3cb08c400>"
      ]
     },
     "execution_count": 48,
     "metadata": {},
     "output_type": "execute_result"
    }
   ],
   "source": [
    "response = co.detect_language(\n",
    "  texts=[\"testando esse negocio em uma lingua nova\"],\n",
    ")\n",
    "response"
   ]
  },
  {
   "cell_type": "markdown",
   "id": "af058a8c-107f-4266-85a0-4ca20147ee20",
   "metadata": {},
   "source": [
    "# Using OpenAI api"
   ]
  },
  {
   "cell_type": "code",
   "execution_count": 118,
   "id": "8be1e72a-1b35-4975-9ae4-78671e2ccea9",
   "metadata": {},
   "outputs": [],
   "source": [
    "import openai"
   ]
  },
  {
   "cell_type": "code",
   "execution_count": 140,
   "id": "1a9abf7d-6a18-4137-9010-660568c6b91b",
   "metadata": {},
   "outputs": [],
   "source": [
    "messages = [{\"role\": \"user\", \"content\": prompt}]\n",
    "\n",
    "response = openai.ChatCompletion.create(\n",
    "  model=\"gpt-3.5-turbo\",\n",
    "  messages=messages,\n",
    "  temperature=0,\n",
    "  max_tokens=100,\n",
    "  # frequency_penalty=0.0,\n",
    "  # presence_penalty=0.0,\n",
    "  # stop=[\"\\n\"]\n",
    ")"
   ]
  },
  {
   "cell_type": "code",
   "execution_count": 144,
   "id": "aec0bf2e-6b2b-423f-ac69-1963c51eef26",
   "metadata": {},
   "outputs": [
    {
     "data": {
      "text/plain": [
       "'1) publication title: memórias póstumas de brás cubas\\n2) author: machado de assis\\n3) publication year: 1994'"
      ]
     },
     "execution_count": 144,
     "metadata": {},
     "output_type": "execute_result"
    }
   ],
   "source": [
    "response[\"choices\"][0][\"message\"][\"content\"].lower()"
   ]
  },
  {
   "cell_type": "code",
   "execution_count": 147,
   "id": "96eef81d-53f5-4ea4-9c97-ab0f67c8f00b",
   "metadata": {},
   "outputs": [
    {
     "data": {
      "text/plain": [
       "'memórias póstumas de brás cubas'"
      ]
     },
     "execution_count": 147,
     "metadata": {},
     "output_type": "execute_result"
    }
   ],
   "source": [
    "response_string = response[\"choices\"][0][\"message\"][\"content\"].lower()\n",
    "response_string.split(\"title:\")[1].split(\"author:\")[0].split(\"\\n\")[0].strip()\n",
    "# response_string.split(\"author:\")[1].split(\"\\n\")[0].strip()\n",
    "# response_string.split(\"year:\")[1].split(\"\\n\")[0].strip()"
   ]
  },
  {
   "cell_type": "code",
   "execution_count": null,
   "id": "58ebe0c6-a59a-43b9-89f2-e5261e2b5c29",
   "metadata": {},
   "outputs": [],
   "source": []
  },
  {
   "cell_type": "markdown",
   "id": "c02f5f91-c812-47ef-973d-ff0519950737",
   "metadata": {},
   "source": [
    "# Auto question"
   ]
  },
  {
   "cell_type": "code",
   "execution_count": 97,
   "id": "73919286-092e-4b07-86b3-39f26b689bd7",
   "metadata": {},
   "outputs": [
    {
     "data": {
      "text/plain": [
       "\"ypothesis the notion that it is the permanent form of the world is  what I call a radical empiricist.  For him the crudity of experience  remains an eternal element thereof.  There is no possible point of view  from which the world can appear an absolutely single fact.  Real  possibilities, real indeterminations, real beginnings, real ends, real  evil, real crises, catastrophes, and escapes, a real God, and a real  moral life, just as common-sense conceives these things, may remain in  empiricism as conceptions which that philosophy gives up the attempt  either to 'overcome' or to reinterpret in monistic form.    Many of my professionally trained _confrères_ will smile at the  irrationalism of this view, and at the artlessness of my essays in  point of technical form.  But they should be taken as illustrations of  the radically empiricist attitude rather than as argumentations for its  validity.  That admits meanwhile of {x} being argued in as technical a  shape as any one can desire, and possibly I may be spared to do later a  share of that work.  Meanwhile these essays seem to light up with a  certain dramatic reality the attitude itself, and make it visible  alongside of the higher and lower dogmatisms between which in the pages  of philosophic history it has generally remained eclipsed from sight.    The first four essays are largely concerned with defending the  legitimacy of religious faith.  To some rationalizing readers such  advocacy will seem a sad misuse of one's professional position.  Mankind, they will say, is only too prone to follow faith  unreasoningly, and needs no preaching nor encouragement in that  direction.  I quite agree that what mankind at large most lacks is  criticism and caution, not faith.  Its cardinal weakness is to let  belief follow recklessly upon lively conception, especially when the  conception has instinctive liking at its back.  I admit, then, that  were I addressing the Salvation Army or a miscellaneous popular crowd  it woul\""
      ]
     },
     "execution_count": 97,
     "metadata": {},
     "output_type": "execute_result"
    }
   ],
   "source": [
    "first_pages_content = file_contents.replace(\"\\n\", \" \").replace(\"\\r\", \" \").replace(\"..\", \"\")[5000:7000]\n",
    "first_pages_content"
   ]
  },
  {
   "cell_type": "code",
   "execution_count": 114,
   "id": "c67a2da7-7a6b-4642-ad03-3dc3929513b6",
   "metadata": {},
   "outputs": [],
   "source": [
    "prompt = f\"\"\"  \n",
    "Given the text below, come up with just one question about it. \n",
    "Make sure to include the authors's name and book title in the question.\n",
    "Do not answer it, just create one question.\n",
    "\n",
    "book title: The Will to Believe\n",
    "author: William James\n",
    "\n",
    "Text:\n",
    "{first_pages_content}\n",
    "\n",
    "Question:\n",
    "\"\"\""
   ]
  },
  {
   "cell_type": "code",
   "execution_count": 115,
   "id": "98073188-c7ae-4675-8e01-e62b1210297b",
   "metadata": {},
   "outputs": [],
   "source": [
    "response = co.generate(  \n",
    "    model='xlarge',  \n",
    "    prompt = prompt,  \n",
    "    max_tokens=40,  \n",
    "    temperature=0.2,  \n",
    "    stop_sequences=[\"--\"])\n",
    "\n",
    "info = response.generations[0].text"
   ]
  },
  {
   "cell_type": "code",
   "execution_count": 116,
   "id": "130b0def-a171-4689-b351-6e13821f144b",
   "metadata": {},
   "outputs": [
    {
     "data": {
      "text/plain": [
       "\"What is the author's view of the world?\\nA. The world is a single fact.\\nB. The world is a single fact, but it is not a fact.\\nC.\""
      ]
     },
     "execution_count": 116,
     "metadata": {},
     "output_type": "execute_result"
    }
   ],
   "source": [
    "info"
   ]
  },
  {
   "cell_type": "code",
   "execution_count": null,
   "id": "363a9e33-f6b4-4e3d-8f33-01564575f489",
   "metadata": {},
   "outputs": [],
   "source": []
  },
  {
   "cell_type": "markdown",
   "id": "606d6623-9028-449a-9f46-6f29cce43436",
   "metadata": {},
   "source": [
    "# Qdrant"
   ]
  },
  {
   "cell_type": "code",
   "execution_count": 23,
   "id": "c1a6e430-cbdc-4b55-9111-f4f9b5041f79",
   "metadata": {},
   "outputs": [],
   "source": [
    "from qdrant_client import QdrantClient\n",
    "from qdrant_client.http import models"
   ]
  },
  {
   "cell_type": "code",
   "execution_count": null,
   "id": "c1484e3d-009a-4db6-9563-50b26b603c1c",
   "metadata": {},
   "outputs": [],
   "source": [
    "qdrant_client = QdrantClient(\"localhost\", port=6333)\n",
    "\n",
    "qdrant_client = QdrantClient(\n",
    "    host=os.eviron.get(\"QDRANT_HOST\", None),\n",
    "    api_key=os.eviron.get(\"QDRANT_API_KEY\", None),\n",
    ")"
   ]
  },
  {
   "cell_type": "code",
   "execution_count": null,
   "id": "3b3b41a1-895d-455a-a176-4a3dfab44484",
   "metadata": {},
   "outputs": [],
   "source": []
  },
  {
   "cell_type": "code",
   "execution_count": null,
   "id": "8db74ea0-d285-4195-bbbf-11e6b8720316",
   "metadata": {},
   "outputs": [],
   "source": []
  }
 ],
 "metadata": {
  "kernelspec": {
   "display_name": "env_cardbase",
   "language": "python",
   "name": "env_cardbase"
  },
  "language_info": {
   "codemirror_mode": {
    "name": "ipython",
    "version": 3
   },
   "file_extension": ".py",
   "mimetype": "text/x-python",
   "name": "python",
   "nbconvert_exporter": "python",
   "pygments_lexer": "ipython3",
   "version": "3.9.15"
  }
 },
 "nbformat": 4,
 "nbformat_minor": 5
}
